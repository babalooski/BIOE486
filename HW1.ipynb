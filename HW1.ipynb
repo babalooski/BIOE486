{
  "cells": [
    {
      "cell_type": "markdown",
      "metadata": {
        "id": "view-in-github",
        "colab_type": "text"
      },
      "source": [
        "<a href=\"https://colab.research.google.com/github/babalooski/BIOE486/blob/main/HW1.ipynb\" target=\"_parent\"><img src=\"https://colab.research.google.com/assets/colab-badge.svg\" alt=\"Open In Colab\"/></a>"
      ]
    },
    {
      "cell_type": "code",
      "execution_count": 1,
      "id": "1b2344ba",
      "metadata": {
        "id": "1b2344ba"
      },
      "outputs": [],
      "source": [
        "#Import statements and paths\n",
        "from matplotlib import pyplot\n",
        "import matplotlib.pyplot as plt\n",
        "import numpy as np\n",
        "import torch\n",
        "import torchvision.datasets as datasets\n"
      ]
    },
    {
      "cell_type": "code",
      "execution_count": 3,
      "id": "e566daf0",
      "metadata": {
        "id": "e566daf0",
        "outputId": "5405dc6c-d244-4a53-c085-45aefa69f019",
        "colab": {
          "base_uri": "https://localhost:8080/",
          "height": 876
        }
      },
      "outputs": [
        {
          "output_type": "stream",
          "name": "stdout",
          "text": [
            "X_train: (60000, 28, 28)\n",
            "Y_train: (60000,)\n",
            "X_test:  (10000, 28, 28)\n",
            "Y_test:  (10000,)\n"
          ]
        },
        {
          "output_type": "display_data",
          "data": {
            "text/plain": [
              "<Figure size 800x800 with 9 Axes>"
            ],
            "image/png": "[encoded data removed]"
          },
          "metadata": {}
        }
      ],
      "source": [
        "#Import the data\n",
        "train_set = datasets.MNIST(root='./data', train=True, download=True, transform=None)\n",
        "test_set = datasets.MNIST('./data', train=False, download=True)\n",
        "train_X = train_set.data.numpy()\n",
        "train_y = train_set.targets.numpy()\n",
        "test_X = test_set.data.numpy()\n",
        "test_y = test_set.targets.numpy()\n",
        "print('X_train: ' + str(train_X.shape))\n",
        "print('Y_train: ' + str(train_y.shape))\n",
        "print('X_test:  '  + str(test_X.shape))\n",
        "print('Y_test:  '  + str(test_y.shape))\n",
        "\n",
        "fig, axes = plt.subplots(3, 3, figsize=(8, 8))\n",
        "\n",
        "for i, ax in enumerate(axes.flatten()):\n",
        "    ax.imshow(train_X[i], cmap='gray')\n",
        "    ax.set_title(f\"Label: {train_y[i]}\")\n",
        "    ax.axis('off')\n",
        "\n",
        "plt.tight_layout()\n",
        "plt.show()\n",
        "\n",
        "# TASK 1: Visualize nine distinct images from the dataset.\n",
        "# A plotting package has been imported for you - matplotlib.pyplot.\n",
        "# You may use this package or another display method of your choosing, but it must be displayed in this notebook.\n",
        "# A portion of your grade will be on the neatness and clarity of your plots.\n",
        "#------------------------------------------------\n",
        "#\n",
        "# Provide your codes here\n",
        "#\n",
        "#------------------------------------------------"
      ]
    },
    {
      "cell_type": "code",
      "execution_count": 4,
      "id": "2ab4a5f7",
      "metadata": {
        "id": "2ab4a5f7",
        "colab": {
          "base_uri": "https://localhost:8080/"
        },
        "outputId": "3c656c63-7a10-41c7-8297-e2a6e0a62390"
      },
      "outputs": [
        {
          "output_type": "stream",
          "name": "stdout",
          "text": [
            "Preprocessed X_train: (60000, 785)\n",
            "Preprocessed X_test:  (10000, 785)\n"
          ]
        }
      ],
      "source": [
        "# TASK 2: Preprocess the data\n",
        "# The image data (train_X, test_X) has been loaded as a set of numpy arrays of type uint8.\n",
        "# Vectorize the data, convert the uint8s to floats, and scale the images to [0, 1].\n",
        "# Additionally, append a unit with a value of 1 to each training and testing input.\n",
        "# This value will represent a bias term when training the network.\n",
        "# The final dimensions of your training and testing data should be (num_data, 785).\n",
        "# Demonstrate that you have achieved these dimensions by DISPLAYING the DIMENSIONS of your preprocessed data\n",
        "#------------------------------------------------\n",
        "#\n",
        "# Provide your codes here\n",
        "#\n",
        "#------------------------------------------------\n",
        "\n",
        "train_X = train_X.reshape(train_X.shape[0], -1).astype(np.float32) / 255.0\n",
        "test_X = test_X.reshape(test_X.shape[0], -1).astype(np.float32) / 255.0\n",
        "\n",
        "train_X = np.hstack((train_X, np.ones((train_X.shape[0], 1))))\n",
        "test_X = np.hstack((test_X, np.ones((test_X.shape[0], 1))))\n",
        "\n",
        "print('Preprocessed X_train:', train_X.shape)\n",
        "print('Preprocessed X_test: ', test_X.shape)"
      ]
    },
    {
      "cell_type": "code",
      "execution_count": 46,
      "id": "54a0b055",
      "metadata": {
        "id": "54a0b055"
      },
      "outputs": [],
      "source": [
        "# This class represents a multilayer perceptron with a single hidden layer.\n",
        "# You will need to implement various functions for the next set of tasks.\n",
        "# The functions will be detailed in the docstrings below.\n",
        "# The tasks will have you implement them one at a time.\n",
        "# Validation code will be provided for each step.\n",
        "# Ensure that this passes before moving to the next task, as they build upon each other.\n",
        "# You will need to employ and update the fields of the class to implement some of the methods.\n",
        "# Do not edit anything outside of the designated functions.\n",
        "\n",
        "class Numpy_Model():\n",
        "    def __init__(self, n, debug=False):\n",
        "        self.W1 = np.random.uniform(-0.05, 0.05, size=(n, 785))        # Weights implementing transform from input to hidden\n",
        "        self.W2 = np.random.uniform(-0.05, 0.05, size=(10, (n + 1)))   # Weights implementing transform from hidden to output\n",
        "        self.num_hidden_nodes = n                                      # number of hidden nodes\n",
        "\n",
        "        self.delta_W1 = np.zeros(self.W1.shape)                        # previous gradient for W1 for mgd algorithm\n",
        "        self.delta_W2 = np.zeros(self.W2.shape)                        # previous gradient for W2 for mgd algorithm\n",
        "        self.alpha = 0.9                                               # momentum value for mgd algorithm\n",
        "        self.learning_rate = 1e-1                                      # learning rate for mgd algorithm\n",
        "        self.num_epochs = 10                                           # number of epochs to train for\n",
        "\n",
        "        self.training_record = []                                      # Used to compute training accuracy\n",
        "        self.test_record = []                                          # Used to compute test accuracy\n",
        "\n",
        "        self.confusion_matrix = np.zeros((10, 10)).astype(int)         #Used to record the confucsion matrix\n",
        "\n",
        "        self.debug = debug                                             # Toggles the display of convergence information\n",
        "\n",
        "    def train(self, training_data, training_labels, test_data, test_labels):\n",
        "        for epoch in range(0, self.num_epochs+1):\n",
        "            print(\"Epoch \" + str(epoch) + \":\")\n",
        "            trainingHits = 0\n",
        "            testHits = 0\n",
        "            for x in range(0, len(training_data)):\n",
        "                input_data = training_data[x].reshape((training_data[x].shape[0], 1))\n",
        "                hidden_activations, output_activations, predictions = self.forward(input_data)\n",
        "\n",
        "                label_data = np.full((10,1),0)\n",
        "                label_data[training_labels[x],0] = 1.0\n",
        "\n",
        "                if epoch > 0:\n",
        "                    gradient_W1, gradient_W2 = self.backward(input_data, hidden_activations, output_activations, label_data)\n",
        "                    self.mgd(gradient_W1, gradient_W2)\n",
        "\n",
        "                if(label_data[predictions] == 1.0):\n",
        "                    trainingHits+=1\n",
        "\n",
        "            training_Accuracy = (trainingHits / len(training_data)) * 100\n",
        "            self.training_record.append(training_Accuracy)\n",
        "            if self.debug:\n",
        "                print(\"Training Accuracy: \", training_Accuracy)\n",
        "\n",
        "            self.confusion_matrix = np.zeros((10, 10)).astype(int)\n",
        "\n",
        "            for x in range(0, len(test_data)):\n",
        "                input_data = test_data[x].reshape((test_data[x].shape[0], 1))\n",
        "\n",
        "                hidden_activations, output_activations, predictions = self.forward(input_data)\n",
        "\n",
        "                label_data = np.full((10,1),0)\n",
        "                label_data[test_labels[x],0] = 1.0\n",
        "\n",
        "                # If predicted value matches target, increment no. of hits\n",
        "                if (label_data[predictions] == 1.0):\n",
        "                    testHits += 1\n",
        "\n",
        "                # Record prediction in confusion matrix\n",
        "                self.confusion_matrix[test_labels[x], predictions] += 1\n",
        "\n",
        "            # Compute accuracy on dataset as fraction of correct classification\n",
        "            test_Accuracy = (testHits / len(test_data)) * 100\n",
        "            self.test_record.append(test_Accuracy)\n",
        "            if self.debug:\n",
        "                print(\"Test Accuracy: \", test_Accuracy)\n",
        "                print(\"\")\n",
        "\n",
        "    def forward(self, input_data):\n",
        "        \"\"\"\n",
        "        Performs the forward pass.\n",
        "        Uses class fields W1 and W2, representing the first and second weights, respectively\n",
        "        Also uses the class function activation, which applies the activation function\n",
        "        Remember to concatenate a 1 to the hidden layer activation to represent the bias term.\n",
        "\n",
        "        Inputs:\n",
        "        input_data: a single mnist image sample, flattened and with a bias term added (dims: [785, 1])\n",
        "\n",
        "        Outputs:\n",
        "        hidden_layer: the values after propogating the input data through the first layer, including the activation function\n",
        "        output_layer: the values after propogating the input data through both layers, including activation functions\n",
        "        predicted_output: a single output value indicating the predicted class\n",
        "        \"\"\"\n",
        "        #------------------------------------------------\n",
        "        #\n",
        "        # Provide your codes here\n",
        "        #\n",
        "        #------------------------------------------------\n",
        "\n",
        "        hidden_layer = self.activation(np.dot(self.W1, input_data))\n",
        "        hidden_layer = np.vstack((hidden_layer, np.ones((1, hidden_layer.shape[1]))))\n",
        "        output_layer = self.activation(np.dot(self.W2, hidden_layer))\n",
        "        predicted_output = np.argmax(output_layer)\n",
        "        return hidden_layer, output_layer, predicted_output\n",
        "\n",
        "    def backward(self, input_data, hidden, output, target):\n",
        "        \"\"\"\n",
        "        Implements the backprop algorithm.\n",
        "\n",
        "        Inputs:\n",
        "        hidden: the values after propogating the input data through the first layer, including the activation function\n",
        "        output: the values after propogating the input data through both layers, including activation functions\n",
        "        target: a [10,1] vector representing the label value, with the index representing the corresponding\n",
        "            digit. As an example, when the true label for an image is 3, target[3] = 1.0 and target[0] = 0.0.\n",
        "\n",
        "        Outputs:\n",
        "        gradient_W1: gradient for W1, has dims (n, 785)\n",
        "        gradient_W2: gradient for W2, has dims (10, n+1)\n",
        "        \"\"\"\n",
        "        #------------------------------------------------\n",
        "        #\n",
        "        # Provide your codes here\n",
        "        #\n",
        "        #------------------------------------------------\n",
        "\n",
        "        error_output = output - target\n",
        "        gradient_W2 = (self.learning_rate * np.dot(hidden, error_output.T)).T\n",
        "        error_hidden = np.dot(self.W2.T, error_output) * hidden * (1 - hidden)\n",
        "        gradient_W1 = (self.learning_rate * np.dot(input_data,error_hidden[:-1].T)).T\n",
        "        return gradient_W1, gradient_W2\n",
        "\n",
        "    def mgd(self, gradient_W1, gradient_W2):\n",
        "        \"\"\"\n",
        "        Implements a momentum gradient descent.\n",
        "        Updates the fields W1, W2, delta_W1, and delta_W2.\n",
        "        Additionally utilizes the alpha and learning rate parameters.\n",
        "\n",
        "        Inputs:\n",
        "        gradient_W1: gradient for W1, has dims (n, 785)\n",
        "        gradient_W2: gradient for W2, has dims (10, n+1)\n",
        "        \"\"\"\n",
        "        #------------------------------------------------\n",
        "        #\n",
        "        # Provide your codes here\n",
        "        #\n",
        "        #------------------------------------------------\\\n",
        "        self.delta_W1 = self.alpha * self.delta_W1 - self.learning_rate * gradient_W1\n",
        "        self.delta_W2 = self.alpha * self.delta_W2 - self.learning_rate * gradient_W2\n",
        "        self.W1 += self.delta_W1\n",
        "        self.W2 += self.delta_W2\n",
        "\n",
        "    def activation(self, x):\n",
        "        return self._sigmoid(x)\n",
        "\n",
        "    def _sigmoid(self, x):\n",
        "        return (1 / (1 + np.exp(-x)))\n",
        "\n",
        "    def plot_accuracy(self):\n",
        "        plt.figure(self.num_hidden_nodes)\n",
        "        plt.xlabel('Epochs')\n",
        "        plt.ylabel('Accuracy')\n",
        "        plt.plot(self.training_record, color = \"red\", label = 'training set accuracy')\n",
        "        plt.plot(self.test_record, color = \"green\", label = 'testing set accuracy')\n",
        "        plt.ylim(0, 100)\n",
        "        plt.xlim(0, 10)\n",
        "        plt.title('No. of hidden neurons (n): ' + str(self.num_hidden_nodes))\n",
        "        #lgd = plt.legend(loc=9, bbox_to_anchor=(0.5, -0.1),ncol=2)\n",
        "        lgd = plt.legend()\n",
        "        plt.savefig('accuracy_E1_n_'+str(self.num_hidden_nodes)+'.png',bbox_extra_artists=(lgd,), bbox_inches='tight')"
      ]
    },
    {
      "cell_type": "code",
      "execution_count": 47,
      "id": "efc6e66b",
      "metadata": {
        "id": "efc6e66b",
        "outputId": "3ee2aed4-9241-4354-e101-8877fd28869a",
        "colab": {
          "base_uri": "https://localhost:8080/"
        }
      },
      "outputs": [
        {
          "output_type": "stream",
          "name": "stdout",
          "text": [
            "Hidden activation validation: 1.277198629782725e-08\n",
            "Output activation validation: 8.005841847838801e-09\n",
            "Prediciton validation: 0.0\n"
          ]
        }
      ],
      "source": [
        "# TASK 3: Implement the forward propagation of the network and evaluate your results using this cell\n",
        "# This cell contains only validation code - do not change the contents of this cell.\n",
        "np.random.seed(243)\n",
        "model = Numpy_Model(20) # creates a model with 20 hidden nodes in the hidden layer\n",
        "hidden_activations, output_activations, prediction = model.forward(train_X[5].reshape((train_X[5].shape[0], 1)))\n",
        "\n",
        "#Provided for your debugging purposes. Each of the values below should be close to zero\n",
        "validation_hidden = np.array([[0.30892327],[0.49095506],[0.54782831],[0.46813871],[0.47085435],[0.45180553],[0.47135914],[0.52423588],[0.43035027],[0.41902605],[0.49954541],[0.46873501],[0.64737602],[0.43641939],[0.59849931],[0.36807404],[0.63082009],[0.49723405],[0.47756751],[0.58343625],[1.        ]])\n",
        "print(\"Hidden activation validation:\", np.linalg.norm(hidden_activations - validation_hidden))\n",
        "validation_output = np.array([[0.52218596],[0.46847276],[0.47275573],[0.49887059],[0.51090319],[0.47481649],[0.50629801],[0.48767566],[0.49648036],[0.50903225]])\n",
        "print(\"Output activation validation:\", np.linalg.norm(output_activations - validation_output))\n",
        "validation_prediction = 0\n",
        "print(\"Prediciton validation:\", np.linalg.norm(prediction - validation_prediction))"
      ]
    },
    {
      "cell_type": "code",
      "execution_count": 48,
      "id": "50aa72a4",
      "metadata": {
        "id": "50aa72a4",
        "outputId": "fd4478d5-abf4-471d-e5d9-87744f7051dc",
        "colab": {
          "base_uri": "https://localhost:8080/"
        }
      },
      "outputs": [
        {
          "output_type": "stream",
          "name": "stdout",
          "text": [
            "W1 gradient validation: 0.11131150461162186\n",
            "W2 gradient validation: 0.8543967534142255\n"
          ]
        }
      ],
      "source": [
        "# TASK 4: Implement the backward propagation for training the network\n",
        "# This cell contains only validation code - do not change the contents of this cell.\n",
        "np.random.seed(243)\n",
        "model = Numpy_Model(20)\n",
        "input_data = train_X[5].reshape((train_X[5].shape[0], 1))\n",
        "hidden_activations, output_activations, prediction = model.forward(input_data)\n",
        "label_data = np.full((10,1),0.0)\n",
        "label_data[0,0] = 1.0\n",
        "gradient_W1, gradient_W2 = model.backward(input_data, hidden_activations, output_activations, label_data)\n",
        "\n",
        "#np.save(open(\"W1_gradient_val.npy\", 'wb'), gradient_W1)\n",
        "#np.save(open(\"W2_gradient_val.npy\", 'wb'), gradient_W2)\n",
        "W1_gradient_val = np.load(\"W1_gradient_val.npy\")\n",
        "W2_gradient_val = np.load(\"W2_gradient_val.npy\")\n",
        "\n",
        "#Provided for your debugging purposes. Each of the values below should be close to zero\n",
        "print(\"W1 gradient validation:\", np.linalg.norm(gradient_W1 - W1_gradient_val))\n",
        "print(\"W2 gradient validation:\", np.linalg.norm(gradient_W2 - W2_gradient_val))"
      ]
    },
    {
      "cell_type": "code",
      "execution_count": 32,
      "id": "4d479ce8",
      "metadata": {
        "id": "4d479ce8",
        "outputId": "8b124244-cdb8-4bce-91aa-8061a7561484",
        "colab": {
          "base_uri": "https://localhost:8080/",
          "height": 1000
        }
      },
      "outputs": [
        {
          "output_type": "stream",
          "name": "stdout",
          "text": [
            "Epoch 0:\n",
            "Training Accuracy:  9.863333333333333\n",
            "Test Accuracy:  9.58\n",
            "\n",
            "Epoch 1:\n",
            "Training Accuracy:  90.17833333333334\n",
            "Test Accuracy:  91.0\n",
            "\n",
            "Epoch 2:\n",
            "Training Accuracy:  92.88499999999999\n",
            "Test Accuracy:  92.55\n",
            "\n",
            "Epoch 3:\n",
            "Training Accuracy:  93.46666666666667\n",
            "Test Accuracy:  93.21000000000001\n",
            "\n",
            "Epoch 4:\n",
            "Training Accuracy:  93.77499999999999\n",
            "Test Accuracy:  93.56\n",
            "\n",
            "Epoch 5:\n",
            "Training Accuracy:  94.26166666666667\n",
            "Test Accuracy:  93.27\n",
            "\n",
            "Epoch 6:\n",
            "Training Accuracy:  94.44500000000001\n",
            "Test Accuracy:  93.46\n",
            "\n",
            "Epoch 7:\n",
            "Training Accuracy:  94.76166666666667\n",
            "Test Accuracy:  93.53\n",
            "\n",
            "Epoch 8:\n",
            "Training Accuracy:  94.89333333333333\n",
            "Test Accuracy:  93.65\n",
            "\n",
            "Epoch 9:\n",
            "Training Accuracy:  94.935\n",
            "Test Accuracy:  93.62\n",
            "\n",
            "Epoch 10:\n",
            "Training Accuracy:  95.02166666666668\n",
            "Test Accuracy:  93.71000000000001\n",
            "\n",
            "Confusion Matrix:\n",
            "[[ 962    0    0    3    2    9    1    2    1    0]\n",
            " [   0 1121    2    3    0    2    3    0    3    1]\n",
            " [   8    3  941   27    8    4    3   10   28    0]\n",
            " [   1    5    5  960    1   13    2    9    5    9]\n",
            " [   0    2    3    0  927    0    8    2    3   37]\n",
            " [   8    3    1   25    2  816    8    3   16   10]\n",
            " [  13    3    1    2    8   28  893    1    8    1]\n",
            " [   1    6   25   16    6    1    1  928    4   40]\n",
            " [   3    8    6   27    9   26    5    6  874   10]\n",
            " [   3    4    0   12   18   10    1    8    4  949]]\n"
          ]
        },
        {
          "output_type": "display_data",
          "data": {
            "text/plain": [
              "<Figure size 640x480 with 1 Axes>"
            ],
            "image/png": "[encoded data removed]"
          },
          "metadata": {}
        }
      ],
      "source": [
        "# TASK 5: Implement the mgd function of the network, which performs momentum gradient descent\n",
        "# If performed successfully, the model should converge to above 90% accuracy for both training and testing data\n",
        "# Note that epoch 0 does not contain any updates to the weights - it provides a baseline of model performance pre-training.\n",
        "# This cell contains only validation code - do not change the contents of this cell.\n",
        "model = Numpy_Model(20, debug=True)\n",
        "model.train(train_X, train_y, test_X, test_y)\n",
        "model.plot_accuracy()\n",
        "print(\"Confusion Matrix:\")\n",
        "print(model.confusion_matrix)"
      ]
    },
    {
      "cell_type": "code",
      "execution_count": null,
      "id": "7d44bce7",
      "metadata": {
        "id": "7d44bce7"
      },
      "outputs": [],
      "source": [
        "# TASK 6: Vary the number of hidden nodes\n",
        "# ---GRADUATE CREDIT ONLY ---\n",
        "# Choose 2 additional values for the hidden nodes.\n",
        "# Train them and report on differences.\n",
        "# Values that are significantly different from the current number of 20 will have the most interesting results.\n",
        "# Use this space for your implementation and comments.\n",
        "# You may insert additional blocks below to format your answer"
      ]
    },
    {
      "cell_type": "code",
      "execution_count": null,
      "id": "7efcdb2e",
      "metadata": {
        "id": "7efcdb2e"
      },
      "outputs": [],
      "source": [
        "# Task 7: Implement one additional activation functions\n",
        "# ---GRADUATE CREDIT ONLY ---\n",
        "# Choose one other activation functions and implement them.\n",
        "# Note that a new activation function necessitates a new backward function.\n",
        "# Much of your previous implementation should still be usable.\n",
        "\n",
        "class Custom_Model_1(Numpy_Model):\n",
        "    def __init__(self, *args, **kwargs):\n",
        "        super().__init__(*args, **kwargs)\n",
        "\n",
        "    def activation(self, x):\n",
        "        return self._custom_activation(x)\n",
        "\n",
        "    def _custom_activation(self, x):\n",
        "        \"\"\"\n",
        "        Implements your first custom activation function.\n",
        "\n",
        "        Inputs:\n",
        "        x: a numpy array of values\n",
        "\n",
        "        Outputs:\n",
        "        activation: the value after passing the input through the implemented activation function\n",
        "        \"\"\"\n",
        "        #------------------------------------------------\n",
        "        #\n",
        "        # Provide your codes here\n",
        "        #\n",
        "        #------------------------------------------------\n",
        "        return activation\n",
        "\n",
        "    def backward(self, input_data, hidden, output, target):\n",
        "        \"\"\"\n",
        "        Implements the backprop algorithm.\n",
        "\n",
        "        Inputs:\n",
        "        hidden: the values after propogating the input data through the first layer, including the activation function\n",
        "        output: the values after propogating the input data through both layers, including activation functions\n",
        "        target: a [10,1] vector representing the label value, with the index representing the corresponding\n",
        "            digit. As an example, when the true label for an image is 3, target[3] = 1.0 and target[0] = 0.0.\n",
        "\n",
        "        Outputs:\n",
        "        gradient_W1: gradient for W1, has dims (n, 785)\n",
        "        gradient_W2: gradient for W2, has dims (10, n+1)\n",
        "        \"\"\"\n",
        "        #------------------------------------------------\n",
        "        #\n",
        "        # Provide your codes here\n",
        "        #\n",
        "        #------------------------------------------------\n",
        "\n",
        "        return gradient_W1, gradient_W2"
      ]
    },
    {
      "cell_type": "code",
      "execution_count": null,
      "id": "da077d60",
      "metadata": {
        "id": "da077d60"
      },
      "outputs": [],
      "source": [
        "# Use this space for your implementation and comments.\n",
        "# You may insert additional blocks below to format your answer"
      ]
    }
  ],
  "metadata": {
    "kernelspec": {
      "display_name": "Python 3 (ipykernel)",
      "language": "python",
      "name": "python3"
    },
    "language_info": {
      "codemirror_mode": {
        "name": "ipython",
        "version": 3
      },
      "file_extension": ".py",
      "mimetype": "text/x-python",
      "name": "python",
      "nbconvert_exporter": "python",
      "pygments_lexer": "ipython3",
      "version": "3.9.7"
    },
    "colab": {
      "provenance": [],
      "include_colab_link": true
    }
  },
  "nbformat": 4,
  "nbformat_minor": 5
}